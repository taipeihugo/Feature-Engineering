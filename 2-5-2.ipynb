{
 "cells": [
  {
   "cell_type": "code",
   "execution_count": 1,
   "id": "5e02f1cf-2802-42dd-854b-594a31da7da8",
   "metadata": {},
   "outputs": [
    {
     "name": "stdout",
     "output_type": "stream",
     "text": [
      "          Name First Name Last Name\n",
      "0     John Doe       John       Doe\n",
      "1   Jane Smith       Jane     Smith\n",
      "2  Bob Johnson        Bob   Johnson\n"
     ]
    }
   ],
   "source": [
    "import pandas as pd\n",
    "# create a sample DataFrame\n",
    "df = pd.DataFrame({'Name': ['John Doe', 'Jane Smith', 'Bob Johnson']})\n",
    "# split the Name column into two columns\n",
    "df[['First Name', 'Last Name']] = df['Name'].str.split(' ', expand=True)\n",
    "# view the updated DataFrame\n",
    "print(df)"
   ]
  },
  {
   "cell_type": "code",
   "execution_count": 3,
   "id": "7e7970e7-5ba8-4a02-ba16-727b510beab1",
   "metadata": {},
   "outputs": [
    {
     "data": {
      "text/html": [
       "<div>\n",
       "<style scoped>\n",
       "    .dataframe tbody tr th:only-of-type {\n",
       "        vertical-align: middle;\n",
       "    }\n",
       "\n",
       "    .dataframe tbody tr th {\n",
       "        vertical-align: top;\n",
       "    }\n",
       "\n",
       "    .dataframe thead th {\n",
       "        text-align: right;\n",
       "    }\n",
       "</style>\n",
       "<table border=\"1\" class=\"dataframe\">\n",
       "  <thead>\n",
       "    <tr style=\"text-align: right;\">\n",
       "      <th></th>\n",
       "      <th>name</th>\n",
       "      <th>age</th>\n",
       "    </tr>\n",
       "  </thead>\n",
       "  <tbody>\n",
       "    <tr>\n",
       "      <th>0</th>\n",
       "      <td>Sally</td>\n",
       "      <td>50</td>\n",
       "    </tr>\n",
       "    <tr>\n",
       "      <th>1</th>\n",
       "      <td>Mary</td>\n",
       "      <td>40</td>\n",
       "    </tr>\n",
       "    <tr>\n",
       "      <th>2</th>\n",
       "      <td>John</td>\n",
       "      <td>30</td>\n",
       "    </tr>\n",
       "  </tbody>\n",
       "</table>\n",
       "</div>"
      ],
      "text/plain": [
       "    name  age\n",
       "0  Sally   50\n",
       "1   Mary   40\n",
       "2   John   30"
      ]
     },
     "execution_count": 3,
     "metadata": {},
     "output_type": "execute_result"
    }
   ],
   "source": [
    "import pandas as pd\n",
    "data = {\n",
    "  \"name\": [\"Sally\", \"Mary\", \"John\"],\n",
    "  \"age\": [50, 40, 30]\n",
    "}\n",
    "df = pd.DataFrame(data)\n",
    "df"
   ]
  },
  {
   "cell_type": "code",
   "execution_count": 5,
   "id": "09351b12-6192-4a11-8a3f-96cf04724ac4",
   "metadata": {},
   "outputs": [
    {
     "name": "stdout",
     "output_type": "stream",
     "text": [
      "    name  age\n",
      "0  Sally   50\n",
      "1   Mary   40\n"
     ]
    }
   ],
   "source": [
    "# 把資料的取得看成是查詢資料的操作\n",
    "print(df.query('age > 35'))"
   ]
  },
  {
   "cell_type": "code",
   "execution_count": 7,
   "id": "2f131a35-4891-41b2-9a24-90e65dc57a9a",
   "metadata": {},
   "outputs": [
    {
     "name": "stdout",
     "output_type": "stream",
     "text": [
      "0     John\n",
      "1     Anna\n",
      "2    Peter\n",
      "Name: Name, dtype: object\n"
     ]
    }
   ],
   "source": [
    "# 使用欄位名稱取得資料\n",
    "import pandas as pd\n",
    "# Create a simple dataframe\n",
    "data = {'Name': ['John', 'Anna', 'Peter'],\n",
    "        'Age': [28, 24, 22]}\n",
    "df = pd.DataFrame(data)\n",
    "# Access the 'Name' column\n",
    "print(df['Name'])"
   ]
  },
  {
   "cell_type": "code",
   "execution_count": 9,
   "id": "d5ed43bb-2b5a-454c-acc1-1f22f7c12332",
   "metadata": {},
   "outputs": [
    {
     "name": "stdout",
     "output_type": "stream",
     "text": [
      "0     John\n",
      "1     Anna\n",
      "2    Peter\n",
      "Name: Name, dtype: object\n"
     ]
    }
   ],
   "source": [
    "# Using loc\n",
    "print(df.loc[:, 'Name'])"
   ]
  },
  {
   "cell_type": "code",
   "execution_count": 11,
   "id": "e6cdbd62-6874-44ba-ae61-cde0268a28ee",
   "metadata": {},
   "outputs": [
    {
     "name": "stdout",
     "output_type": "stream",
     "text": [
      "0     John\n",
      "1     Anna\n",
      "2    Peter\n",
      "Name: Name, dtype: object\n"
     ]
    }
   ],
   "source": [
    "# Using iloc\n",
    "print(df.iloc[:, 0])"
   ]
  },
  {
   "cell_type": "code",
   "execution_count": 13,
   "id": "0a8caf0f-c64b-4ab0-b3ff-55fb4e13be0e",
   "metadata": {},
   "outputs": [
    {
     "name": "stdout",
     "output_type": "stream",
     "text": [
      "John\n"
     ]
    }
   ],
   "source": [
    "# Using at\n",
    "print(df.at[0, 'Name'])"
   ]
  },
  {
   "cell_type": "code",
   "execution_count": 15,
   "id": "84e4308c-83de-4e1a-8ca4-6451fda13c4b",
   "metadata": {},
   "outputs": [
    {
     "name": "stdout",
     "output_type": "stream",
     "text": [
      "John\n"
     ]
    }
   ],
   "source": [
    "# Using iat\n",
    "print(df.iat[0, 0])"
   ]
  },
  {
   "cell_type": "code",
   "execution_count": 17,
   "id": "3f4715d7-c4a3-4042-8384-b156e41b5a35",
   "metadata": {},
   "outputs": [
    {
     "name": "stdout",
     "output_type": "stream",
     "text": [
      "    Name  Age\n",
      "0   John   28\n",
      "1   Anna   24\n",
      "2  Peter   22\n"
     ]
    }
   ],
   "source": [
    "# 取得多個資料值的方法\n",
    "print(df[['Name', 'Age']])"
   ]
  },
  {
   "cell_type": "code",
   "execution_count": 19,
   "id": "2380f1c4-b181-4de0-80be-30d242404a71",
   "metadata": {},
   "outputs": [
    {
     "name": "stdout",
     "output_type": "stream",
     "text": [
      "    Name  Age\n",
      "0   John   28\n",
      "1   Anna   24\n",
      "2  Peter   22\n"
     ]
    }
   ],
   "source": [
    "# Using loc\n",
    "print(df.loc[:, ['Name', 'Age']])"
   ]
  },
  {
   "cell_type": "code",
   "execution_count": 21,
   "id": "f7e9a28e-ebce-40e9-85a5-ec91fe5ed491",
   "metadata": {},
   "outputs": [
    {
     "name": "stdout",
     "output_type": "stream",
     "text": [
      "    Name  Age\n",
      "0   John   28\n",
      "1   Anna   24\n",
      "2  Peter   22\n"
     ]
    }
   ],
   "source": [
    "# Using iloc\n",
    "print(df.iloc[:, [0, 1]])"
   ]
  },
  {
   "cell_type": "code",
   "execution_count": null,
   "id": "85bfbebb-221c-4122-81b6-2396e844341e",
   "metadata": {},
   "outputs": [],
   "source": []
  }
 ],
 "metadata": {
  "kernelspec": {
   "display_name": "Python 3 (ipykernel)",
   "language": "python",
   "name": "python3"
  },
  "language_info": {
   "codemirror_mode": {
    "name": "ipython",
    "version": 3
   },
   "file_extension": ".py",
   "mimetype": "text/x-python",
   "name": "python",
   "nbconvert_exporter": "python",
   "pygments_lexer": "ipython3",
   "version": "3.12.7"
  }
 },
 "nbformat": 4,
 "nbformat_minor": 5
}
