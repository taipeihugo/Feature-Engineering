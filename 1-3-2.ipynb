{
 "cells": [
  {
   "cell_type": "code",
   "execution_count": 1,
   "id": "a33ffb56-c732-4772-920e-4a671b5d2624",
   "metadata": {},
   "outputs": [
    {
     "name": "stdout",
     "output_type": "stream",
     "text": [
      "Mean absolute error : 1.8\n"
     ]
    }
   ],
   "source": [
    "# 實際觀察值\n",
    "actual = [2, 3, 5, 5, 9]\n",
    "# 預測值\n",
    "calculated = [3, 3, 8, 7, 6]\n",
    "\n",
    "n = 5\n",
    "sum = 0\n",
    "# 計算誤差\n",
    "for i in range(n):\n",
    "    sum += abs(actual[i] - calculated[i])\n",
    "\n",
    "error = sum/n\n",
    "print(\"Mean absolute error : \" + str(error))"
   ]
  },
  {
   "cell_type": "code",
   "execution_count": 3,
   "id": "3e096d5d-af32-4ef1-94f4-01f80e71c54b",
   "metadata": {},
   "outputs": [
    {
     "name": "stdout",
     "output_type": "stream",
     "text": [
      "Mean absolute error : 1.8\n"
     ]
    }
   ],
   "source": [
    "from sklearn.metrics import mean_absolute_error as mae\n",
    "\n",
    "actual = [2, 3, 5, 5, 9]\n",
    "calculated = [3, 3, 8, 7, 6]\n",
    "\n",
    "# 直接用套件功能計算MAE\n",
    "error = mae(actual, calculated)\n",
    "print(\"Mean absolute error : \" + str(error))"
   ]
  },
  {
   "cell_type": "code",
   "execution_count": null,
   "id": "b21b24c2-4b25-486f-af3b-48a3524666da",
   "metadata": {},
   "outputs": [],
   "source": []
  }
 ],
 "metadata": {
  "kernelspec": {
   "display_name": "Python 3 (ipykernel)",
   "language": "python",
   "name": "python3"
  },
  "language_info": {
   "codemirror_mode": {
    "name": "ipython",
    "version": 3
   },
   "file_extension": ".py",
   "mimetype": "text/x-python",
   "name": "python",
   "nbconvert_exporter": "python",
   "pygments_lexer": "ipython3",
   "version": "3.12.7"
  }
 },
 "nbformat": 4,
 "nbformat_minor": 5
}
