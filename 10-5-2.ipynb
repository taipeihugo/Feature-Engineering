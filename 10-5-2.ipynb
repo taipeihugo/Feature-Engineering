{
 "cells": [
  {
   "cell_type": "code",
   "execution_count": 2,
   "metadata": {},
   "outputs": [
    {
     "name": "stderr",
     "output_type": "stream",
     "text": [
      "C:\\ProgramData\\anaconda\\Lib\\site-packages\\pandas\\core\\arrays\\masked.py:60: UserWarning: Pandas requires version '1.3.6' or newer of 'bottleneck' (version '1.3.5' currently installed).\n",
      "  from pandas.core import (\n"
     ]
    }
   ],
   "source": [
    "# 不同時區(time zones)的問題\n",
    "import pandas as pd"
   ]
  },
  {
   "cell_type": "code",
   "execution_count": 3,
   "metadata": {},
   "outputs": [
    {
     "name": "stderr",
     "output_type": "stream",
     "text": [
      "C:\\Users\\NOU\\AppData\\Local\\Temp\\ipykernel_15064\\3124337579.py:7: FutureWarning: 'H' is deprecated and will be removed in a future version, please use 'h' instead.\n",
      "  pd.date_range(\n",
      "C:\\Users\\NOU\\AppData\\Local\\Temp\\ipykernel_15064\\3124337579.py:12: FutureWarning: 'H' is deprecated and will be removed in a future version, please use 'h' instead.\n",
      "  pd.date_range(\n"
     ]
    },
    {
     "data": {
      "text/html": [
       "<div>\n",
       "<style scoped>\n",
       "    .dataframe tbody tr th:only-of-type {\n",
       "        vertical-align: middle;\n",
       "    }\n",
       "\n",
       "    .dataframe tbody tr th {\n",
       "        vertical-align: top;\n",
       "    }\n",
       "\n",
       "    .dataframe thead th {\n",
       "        text-align: right;\n",
       "    }\n",
       "</style>\n",
       "<table border=\"1\" class=\"dataframe\">\n",
       "  <thead>\n",
       "    <tr style=\"text-align: right;\">\n",
       "      <th></th>\n",
       "      <th>time1</th>\n",
       "    </tr>\n",
       "  </thead>\n",
       "  <tbody>\n",
       "    <tr>\n",
       "      <th>0</th>\n",
       "      <td>2015-06-10 09:00:00+02:00</td>\n",
       "    </tr>\n",
       "    <tr>\n",
       "      <th>1</th>\n",
       "      <td>2015-06-10 10:00:00+02:00</td>\n",
       "    </tr>\n",
       "    <tr>\n",
       "      <th>2</th>\n",
       "      <td>2015-06-10 11:00:00+02:00</td>\n",
       "    </tr>\n",
       "    <tr>\n",
       "      <th>0</th>\n",
       "      <td>2015-09-10 09:00:00-05:00</td>\n",
       "    </tr>\n",
       "    <tr>\n",
       "      <th>1</th>\n",
       "      <td>2015-09-10 10:00:00-05:00</td>\n",
       "    </tr>\n",
       "    <tr>\n",
       "      <th>2</th>\n",
       "      <td>2015-09-10 11:00:00-05:00</td>\n",
       "    </tr>\n",
       "  </tbody>\n",
       "</table>\n",
       "</div>"
      ],
      "text/plain": [
       "                       time1\n",
       "0  2015-06-10 09:00:00+02:00\n",
       "1  2015-06-10 10:00:00+02:00\n",
       "2  2015-06-10 11:00:00+02:00\n",
       "0  2015-09-10 09:00:00-05:00\n",
       "1  2015-09-10 10:00:00-05:00\n",
       "2  2015-09-10 11:00:00-05:00"
      ]
     },
     "execution_count": 3,
     "metadata": {},
     "output_type": "execute_result"
    }
   ],
   "source": [
    "#建立不同時區中的日期時間變數\n",
    "\n",
    "df = pd.DataFrame()\n",
    "df[\"time1\"] = pd.concat(\n",
    "    [\n",
    "        pd.Series(\n",
    "            pd.date_range(\n",
    "                start=\"2015-06-10 09:00\", freq=\"H\", periods=3, tz=\"Europe/Berlin\"\n",
    "            )\n",
    "        ),\n",
    "        pd.Series(\n",
    "            pd.date_range(\n",
    "                start=\"2015-09-10 09:00\", freq=\"H\", periods=3, tz=\"US/Central\"\n",
    "            )\n",
    "        ),\n",
    "    ],\n",
    "    axis=0,\n",
    ")\n",
    "df"
   ]
  },
  {
   "cell_type": "code",
   "execution_count": 4,
   "metadata": {},
   "outputs": [
    {
     "name": "stderr",
     "output_type": "stream",
     "text": [
      "C:\\Users\\NOU\\AppData\\Local\\Temp\\ipykernel_15064\\2161802034.py:7: FutureWarning: 'H' is deprecated and will be removed in a future version, please use 'h' instead.\n",
      "  pd.date_range(\n",
      "C:\\Users\\NOU\\AppData\\Local\\Temp\\ipykernel_15064\\2161802034.py:12: FutureWarning: 'H' is deprecated and will be removed in a future version, please use 'h' instead.\n",
      "  pd.date_range(\n"
     ]
    },
    {
     "data": {
      "text/html": [
       "<div>\n",
       "<style scoped>\n",
       "    .dataframe tbody tr th:only-of-type {\n",
       "        vertical-align: middle;\n",
       "    }\n",
       "\n",
       "    .dataframe tbody tr th {\n",
       "        vertical-align: top;\n",
       "    }\n",
       "\n",
       "    .dataframe thead th {\n",
       "        text-align: right;\n",
       "    }\n",
       "</style>\n",
       "<table border=\"1\" class=\"dataframe\">\n",
       "  <thead>\n",
       "    <tr style=\"text-align: right;\">\n",
       "      <th></th>\n",
       "      <th>time1</th>\n",
       "      <th>time2</th>\n",
       "    </tr>\n",
       "  </thead>\n",
       "  <tbody>\n",
       "    <tr>\n",
       "      <th>0</th>\n",
       "      <td>2015-06-10 09:00:00+02:00</td>\n",
       "      <td>2015-07-01 09:00:00+02:00</td>\n",
       "    </tr>\n",
       "    <tr>\n",
       "      <th>1</th>\n",
       "      <td>2015-06-10 10:00:00+02:00</td>\n",
       "      <td>2015-07-01 10:00:00+02:00</td>\n",
       "    </tr>\n",
       "    <tr>\n",
       "      <th>2</th>\n",
       "      <td>2015-06-10 11:00:00+02:00</td>\n",
       "      <td>2015-07-01 11:00:00+02:00</td>\n",
       "    </tr>\n",
       "    <tr>\n",
       "      <th>0</th>\n",
       "      <td>2015-09-10 09:00:00-05:00</td>\n",
       "      <td>2015-08-01 09:00:00-05:00</td>\n",
       "    </tr>\n",
       "    <tr>\n",
       "      <th>1</th>\n",
       "      <td>2015-09-10 10:00:00-05:00</td>\n",
       "      <td>2015-08-01 10:00:00-05:00</td>\n",
       "    </tr>\n",
       "    <tr>\n",
       "      <th>2</th>\n",
       "      <td>2015-09-10 11:00:00-05:00</td>\n",
       "      <td>2015-08-01 11:00:00-05:00</td>\n",
       "    </tr>\n",
       "  </tbody>\n",
       "</table>\n",
       "</div>"
      ],
      "text/plain": [
       "                       time1                      time2\n",
       "0  2015-06-10 09:00:00+02:00  2015-07-01 09:00:00+02:00\n",
       "1  2015-06-10 10:00:00+02:00  2015-07-01 10:00:00+02:00\n",
       "2  2015-06-10 11:00:00+02:00  2015-07-01 11:00:00+02:00\n",
       "0  2015-09-10 09:00:00-05:00  2015-08-01 09:00:00-05:00\n",
       "1  2015-09-10 10:00:00-05:00  2015-08-01 10:00:00-05:00\n",
       "2  2015-09-10 11:00:00-05:00  2015-08-01 11:00:00-05:00"
      ]
     },
     "execution_count": 4,
     "metadata": {},
     "output_type": "execute_result"
    }
   ],
   "source": [
    "# first, let's create a toy dataframe with some timestamps in different time zones\n",
    "# variable 2\n",
    "\n",
    "df[\"time2\"] = pd.concat(\n",
    "    [\n",
    "        pd.Series(\n",
    "            pd.date_range(\n",
    "                start=\"2015-07-01 09:00\", freq=\"H\", periods=3, tz=\"Europe/Berlin\"\n",
    "            )\n",
    "        ),\n",
    "        pd.Series(\n",
    "            pd.date_range(\n",
    "                start=\"2015-08-01 09:00\", freq=\"H\", periods=3, tz=\"US/Central\"\n",
    "            )\n",
    "        ),\n",
    "    ],\n",
    "    axis=0,\n",
    ")\n",
    "\n",
    "df"
   ]
  },
  {
   "cell_type": "code",
   "execution_count": 5,
   "metadata": {},
   "outputs": [
    {
     "data": {
      "text/html": [
       "<div>\n",
       "<style scoped>\n",
       "    .dataframe tbody tr th:only-of-type {\n",
       "        vertical-align: middle;\n",
       "    }\n",
       "\n",
       "    .dataframe tbody tr th {\n",
       "        vertical-align: top;\n",
       "    }\n",
       "\n",
       "    .dataframe thead th {\n",
       "        text-align: right;\n",
       "    }\n",
       "</style>\n",
       "<table border=\"1\" class=\"dataframe\">\n",
       "  <thead>\n",
       "    <tr style=\"text-align: right;\">\n",
       "      <th></th>\n",
       "      <th>time1</th>\n",
       "      <th>time2</th>\n",
       "      <th>time1_utc</th>\n",
       "      <th>time2_utc</th>\n",
       "    </tr>\n",
       "  </thead>\n",
       "  <tbody>\n",
       "    <tr>\n",
       "      <th>0</th>\n",
       "      <td>2015-06-10 09:00:00+02:00</td>\n",
       "      <td>2015-07-01 09:00:00+02:00</td>\n",
       "      <td>2015-06-10 07:00:00+00:00</td>\n",
       "      <td>2015-07-01 07:00:00+00:00</td>\n",
       "    </tr>\n",
       "    <tr>\n",
       "      <th>1</th>\n",
       "      <td>2015-06-10 10:00:00+02:00</td>\n",
       "      <td>2015-07-01 10:00:00+02:00</td>\n",
       "      <td>2015-06-10 08:00:00+00:00</td>\n",
       "      <td>2015-07-01 08:00:00+00:00</td>\n",
       "    </tr>\n",
       "    <tr>\n",
       "      <th>2</th>\n",
       "      <td>2015-06-10 11:00:00+02:00</td>\n",
       "      <td>2015-07-01 11:00:00+02:00</td>\n",
       "      <td>2015-06-10 09:00:00+00:00</td>\n",
       "      <td>2015-07-01 09:00:00+00:00</td>\n",
       "    </tr>\n",
       "    <tr>\n",
       "      <th>0</th>\n",
       "      <td>2015-09-10 09:00:00-05:00</td>\n",
       "      <td>2015-08-01 09:00:00-05:00</td>\n",
       "      <td>2015-09-10 14:00:00+00:00</td>\n",
       "      <td>2015-08-01 14:00:00+00:00</td>\n",
       "    </tr>\n",
       "    <tr>\n",
       "      <th>1</th>\n",
       "      <td>2015-09-10 10:00:00-05:00</td>\n",
       "      <td>2015-08-01 10:00:00-05:00</td>\n",
       "      <td>2015-09-10 15:00:00+00:00</td>\n",
       "      <td>2015-08-01 15:00:00+00:00</td>\n",
       "    </tr>\n",
       "    <tr>\n",
       "      <th>2</th>\n",
       "      <td>2015-09-10 11:00:00-05:00</td>\n",
       "      <td>2015-08-01 11:00:00-05:00</td>\n",
       "      <td>2015-09-10 16:00:00+00:00</td>\n",
       "      <td>2015-08-01 16:00:00+00:00</td>\n",
       "    </tr>\n",
       "  </tbody>\n",
       "</table>\n",
       "</div>"
      ],
      "text/plain": [
       "                       time1                      time2  \\\n",
       "0  2015-06-10 09:00:00+02:00  2015-07-01 09:00:00+02:00   \n",
       "1  2015-06-10 10:00:00+02:00  2015-07-01 10:00:00+02:00   \n",
       "2  2015-06-10 11:00:00+02:00  2015-07-01 11:00:00+02:00   \n",
       "0  2015-09-10 09:00:00-05:00  2015-08-01 09:00:00-05:00   \n",
       "1  2015-09-10 10:00:00-05:00  2015-08-01 10:00:00-05:00   \n",
       "2  2015-09-10 11:00:00-05:00  2015-08-01 11:00:00-05:00   \n",
       "\n",
       "                  time1_utc                 time2_utc  \n",
       "0 2015-06-10 07:00:00+00:00 2015-07-01 07:00:00+00:00  \n",
       "1 2015-06-10 08:00:00+00:00 2015-07-01 08:00:00+00:00  \n",
       "2 2015-06-10 09:00:00+00:00 2015-07-01 09:00:00+00:00  \n",
       "0 2015-09-10 14:00:00+00:00 2015-08-01 14:00:00+00:00  \n",
       "1 2015-09-10 15:00:00+00:00 2015-08-01 15:00:00+00:00  \n",
       "2 2015-09-10 16:00:00+00:00 2015-08-01 16:00:00+00:00  "
      ]
     },
     "execution_count": 5,
     "metadata": {},
     "output_type": "execute_result"
    }
   ],
   "source": [
    "# 要處理不同時區的問題, 可以先都轉換成中央標準時區UTC\n",
    "# setting utc = True\n",
    "\n",
    "df[\"time1_utc\"] = pd.to_datetime(df[\"time1\"], utc=True)\n",
    "df[\"time2_utc\"] = pd.to_datetime(df[\"time2\"], utc=True)\n",
    "\n",
    "df"
   ]
  },
  {
   "cell_type": "code",
   "execution_count": 6,
   "metadata": {},
   "outputs": [
    {
     "data": {
      "text/plain": [
       "0    21\n",
       "1    21\n",
       "2    21\n",
       "0   -40\n",
       "1   -40\n",
       "Name: elapsed_days, dtype: int64"
      ]
     },
     "execution_count": 6,
     "metadata": {},
     "output_type": "execute_result"
    }
   ],
   "source": [
    "# let's explore the variable type\n",
    "\n",
    "df[\"elapsed_days\"] = (df[\"time2_utc\"] - df[\"time1_utc\"]).dt.days\n",
    "\n",
    "df[\"elapsed_days\"].head()"
   ]
  },
  {
   "cell_type": "code",
   "execution_count": 7,
   "metadata": {},
   "outputs": [
    {
     "data": {
      "text/html": [
       "<div>\n",
       "<style scoped>\n",
       "    .dataframe tbody tr th:only-of-type {\n",
       "        vertical-align: middle;\n",
       "    }\n",
       "\n",
       "    .dataframe tbody tr th {\n",
       "        vertical-align: top;\n",
       "    }\n",
       "\n",
       "    .dataframe thead th {\n",
       "        text-align: right;\n",
       "    }\n",
       "</style>\n",
       "<table border=\"1\" class=\"dataframe\">\n",
       "  <thead>\n",
       "    <tr style=\"text-align: right;\">\n",
       "      <th></th>\n",
       "      <th>time1_london</th>\n",
       "      <th>time2_berlin</th>\n",
       "    </tr>\n",
       "  </thead>\n",
       "  <tbody>\n",
       "    <tr>\n",
       "      <th>0</th>\n",
       "      <td>2015-06-10 08:00:00+01:00</td>\n",
       "      <td>2015-06-10 09:00:00+02:00</td>\n",
       "    </tr>\n",
       "    <tr>\n",
       "      <th>1</th>\n",
       "      <td>2015-06-10 09:00:00+01:00</td>\n",
       "      <td>2015-06-10 10:00:00+02:00</td>\n",
       "    </tr>\n",
       "    <tr>\n",
       "      <th>2</th>\n",
       "      <td>2015-06-10 10:00:00+01:00</td>\n",
       "      <td>2015-06-10 11:00:00+02:00</td>\n",
       "    </tr>\n",
       "    <tr>\n",
       "      <th>0</th>\n",
       "      <td>2015-09-10 15:00:00+01:00</td>\n",
       "      <td>2015-09-10 16:00:00+02:00</td>\n",
       "    </tr>\n",
       "    <tr>\n",
       "      <th>1</th>\n",
       "      <td>2015-09-10 16:00:00+01:00</td>\n",
       "      <td>2015-09-10 17:00:00+02:00</td>\n",
       "    </tr>\n",
       "    <tr>\n",
       "      <th>2</th>\n",
       "      <td>2015-09-10 17:00:00+01:00</td>\n",
       "      <td>2015-09-10 18:00:00+02:00</td>\n",
       "    </tr>\n",
       "  </tbody>\n",
       "</table>\n",
       "</div>"
      ],
      "text/plain": [
       "               time1_london              time2_berlin\n",
       "0 2015-06-10 08:00:00+01:00 2015-06-10 09:00:00+02:00\n",
       "1 2015-06-10 09:00:00+01:00 2015-06-10 10:00:00+02:00\n",
       "2 2015-06-10 10:00:00+01:00 2015-06-10 11:00:00+02:00\n",
       "0 2015-09-10 15:00:00+01:00 2015-09-10 16:00:00+02:00\n",
       "1 2015-09-10 16:00:00+01:00 2015-09-10 17:00:00+02:00\n",
       "2 2015-09-10 17:00:00+01:00 2015-09-10 18:00:00+02:00"
      ]
     },
     "execution_count": 7,
     "metadata": {},
     "output_type": "execute_result"
    }
   ],
   "source": [
    "# 也可以選擇轉換到其他時區\n",
    "\n",
    "df[\"time1_london\"] = df[\"time1_utc\"].dt.tz_convert(\"Europe/London\")\n",
    "df[\"time2_berlin\"] = df[\"time1_utc\"].dt.tz_convert(\"Europe/Berlin\")\n",
    "\n",
    "df[[\"time1_london\", \"time2_berlin\"]]"
   ]
  },
  {
   "cell_type": "code",
   "execution_count": 8,
   "metadata": {},
   "outputs": [
    {
     "name": "stdout",
     "output_type": "stream",
     "text": [
      "台北標準時間\n"
     ]
    }
   ],
   "source": [
    "import datetime\n",
    "local_timezone = datetime.datetime.utcnow().astimezone().tzinfo\n",
    "print(local_timezone)"
   ]
  },
  {
   "cell_type": "code",
   "execution_count": 1,
   "metadata": {},
   "outputs": [
    {
     "name": "stdout",
     "output_type": "stream",
     "text": [
      "Requirement already satisfied: tzdata in c:\\programdata\\anaconda\\lib\\site-packages (2023.3)\n"
     ]
    }
   ],
   "source": [
    "!pip install tzdata"
   ]
  },
  {
   "cell_type": "code",
   "execution_count": 2,
   "metadata": {},
   "outputs": [
    {
     "name": "stdout",
     "output_type": "stream",
     "text": [
      "{'Indian/Chagos', 'Australia/Yancowinna', 'Africa/Khartoum', 'America/Godthab', 'America/Los_Angeles', 'Asia/Harbin', 'Africa/Bamako', 'America/Montserrat', 'Etc/Greenwich', 'Poland', 'Pacific/Kanton', 'America/St_Lucia', 'Asia/Riyadh', 'Asia/Dubai', 'Australia/Melbourne', 'America/Catamarca', 'Israel', 'Asia/Sakhalin', 'Europe/Vatican', 'Europe/Sarajevo', 'Zulu', 'Brazil/DeNoronha', 'Arctic/Longyearbyen', 'America/Edmonton', 'Antarctica/McMurdo', 'America/New_York', 'Pacific/Midway', 'Antarctica/Casey', 'America/Costa_Rica', 'Brazil/East', 'Etc/GMT0', 'Asia/Qatar', 'America/Punta_Arenas', 'America/Argentina/San_Juan', 'America/Glace_Bay', 'Antarctica/Vostok', 'America/Cordoba', 'Africa/Dar_es_Salaam', 'US/Eastern', 'America/Argentina/Cordoba', 'Kwajalein', 'Asia/Tbilisi', 'America/Bahia', 'Asia/Urumqi', 'CST6CDT', 'America/Yellowknife', 'Pacific/Wake', 'Europe/Copenhagen', 'Etc/GMT-2', 'Africa/Asmara', 'Europe/Madrid', 'Etc/GMT-1', 'America/Dawson_Creek', 'ROK', 'America/St_Johns', 'America/St_Thomas', 'Europe/Belgrade', 'Antarctica/DumontDUrville', 'America/Lima', 'Asia/Makassar', 'Europe/Berlin', 'America/Noronha', 'Asia/Dacca', 'Asia/Calcutta', 'America/Barbados', 'Europe/Guernsey', 'Asia/Nicosia', 'Pacific/Nauru', 'Asia/Dili', 'HST', 'America/St_Barthelemy', 'America/Indiana/Knox', 'Pacific/Truk', 'America/Rio_Branco', 'America/Chihuahua', 'America/Paramaribo', 'US/Central', 'Asia/Tehran', 'Asia/Yakutsk', 'Pacific/Kiritimati', 'America/Managua', 'Asia/Irkutsk', 'Australia/South', 'GB-Eire', 'Japan', 'America/Campo_Grande', 'Atlantic/Jan_Mayen', 'America/Kralendijk', 'Australia/Lord_Howe', 'Pacific/Fakaofo', 'Europe/Kaliningrad', 'America/Whitehorse', 'Africa/Kampala', 'Asia/Kamchatka', 'America/North_Dakota/Beulah', 'Africa/Nouakchott', 'America/Thule', 'Africa/Mbabane', 'America/Vancouver', 'America/Guatemala', 'America/Recife', 'America/Argentina/Mendoza', 'America/Guayaquil', 'Europe/Skopje', 'Europe/Budapest', 'Pacific/Norfolk', 'Africa/Tripoli', 'America/Miquelon', 'America/Detroit', 'Africa/Harare', 'Africa/Kigali', 'Africa/Johannesburg', 'Africa/Niamey', 'America/Fort_Nelson', 'Pacific/Wallis', 'Australia/North', 'Etc/GMT+2', 'Asia/Jakarta', 'America/Atikokan', 'Pacific/Ponape', 'America/Denver', 'America/Indiana/Winamac', 'Asia/Muscat', 'Indian/Christmas', 'America/Atka', 'Pacific/Easter', 'America/Argentina/Ushuaia', 'Etc/GMT-6', 'Etc/GMT+8', 'America/Port_of_Spain', 'Africa/Casablanca', 'Pacific/Pohnpei', 'Atlantic/Cape_Verde', 'America/Juneau', 'Africa/Monrovia', 'America/Belem', 'Pacific/Port_Moresby', 'America/Caracas', 'Africa/Mogadishu', 'Pacific/Saipan', 'Europe/Vaduz', 'Pacific/Pitcairn', 'Asia/Krasnoyarsk', 'Africa/Djibouti', 'Pacific/Yap', 'America/Sitka', 'America/Argentina/Salta', 'Etc/GMT+10', 'Europe/San_Marino', 'America/Nuuk', 'America/Rainy_River', 'Indian/Kerguelen', 'Etc/GMT+3', 'Asia/Samarkand', 'Turkey', 'Europe/Istanbul', 'Africa/Libreville', 'Australia/Queensland', 'Africa/Juba', 'America/St_Kitts', 'Asia/Ujung_Pandang', 'America/Monterrey', 'Asia/Dushanbe', 'Africa/Banjul', 'Asia/Hebron', 'Africa/Gaborone', 'America/Grenada', 'Africa/Maseru', 'Australia/West', 'America/Goose_Bay', 'Navajo', 'US/Aleutian', 'America/Indiana/Marengo', 'America/Guadeloupe', 'Cuba', 'America/Boa_Vista', 'America/Cayenne', 'Australia/Hobart', 'Etc/GMT-9', 'Etc/GMT+7', 'Australia/LHI', 'Africa/Maputo', 'Pacific/Funafuti', 'Europe/Andorra', 'America/Indiana/Indianapolis', 'Asia/Srednekolymsk', 'Atlantic/Bermuda', 'Asia/Kuala_Lumpur', 'America/Araguaina', 'America/Adak', 'America/Yakutat', 'Atlantic/Faroe', 'Asia/Anadyr', 'America/Inuvik', 'Australia/Victoria', 'Pacific/Honolulu', 'America/Winnipeg', 'Pacific/Tarawa', 'Pacific/Samoa', 'US/Hawaii', 'Asia/Istanbul', 'Libya', 'GMT-0', 'Europe/Nicosia', 'EST5EDT', 'Etc/GMT+12', 'Asia/Yerevan', 'Atlantic/Azores', 'Mexico/BajaNorte', 'Atlantic/Madeira', 'Australia/Eucla', 'America/Rosario', 'America/Pangnirtung', 'America/Jamaica', 'Europe/Isle_of_Man', 'Europe/Zurich', 'Asia/Shanghai', 'US/Michigan', 'Pacific/Bougainville', 'Asia/Brunei', 'Europe/Podgorica', 'Asia/Karachi', 'America/Mexico_City', 'Australia/Darwin', 'America/Fortaleza', 'America/Santarem', 'Europe/Zagreb', 'America/Phoenix', 'Pacific/Efate', 'Africa/Brazzaville', 'MST7MDT', 'Europe/Tiraspol', 'Africa/Lusaka', 'UCT', 'America/Bahia_Banderas', 'America/Ciudad_Juarez', 'Africa/Abidjan', 'Europe/London', 'Etc/UCT', 'Etc/GMT-10', 'Canada/Saskatchewan', 'Europe/Athens', 'America/Indiana/Petersburg', 'Asia/Macao', 'Africa/Ndjamena', 'America/Indianapolis', 'America/North_Dakota/New_Salem', 'America/Curacao', 'GMT', 'NZ-CHAT', 'America/Scoresbysund', 'Antarctica/Macquarie', 'GMT+0', 'Pacific/Guadalcanal', 'America/Marigot', 'America/Port-au-Prince', 'America/Indiana/Vevay', 'Asia/Thimphu', 'Asia/Chita', 'America/Chicago', 'Africa/Dakar', 'Universal', 'US/Samoa', 'America/Martinique', 'Atlantic/Faeroe', 'America/Asuncion', 'America/Cuiaba', 'Atlantic/Stanley', 'PST8PDT', 'Eire', 'Asia/Vladivostok', 'America/Menominee', 'Asia/Aqtau', 'America/Anchorage', 'US/Mountain', 'Europe/Bratislava', 'Mexico/General', 'America/Argentina/Buenos_Aires', 'Europe/Helsinki', 'Europe/Tirane', 'America/Indiana/Vincennes', 'Pacific/Guam', 'America/Tortola', 'Canada/Eastern', 'Australia/NSW', 'Asia/Ashgabat', 'Asia/Atyrau', 'America/North_Dakota/Center', 'America/Ojinaga', 'Pacific/Gambier', 'Asia/Ashkhabad', 'Europe/Dublin', 'Antarctica/Rothera', 'Indian/Mayotte', 'Etc/UTC', 'Etc/GMT+1', 'Canada/Yukon', 'Africa/Freetown', 'Africa/Cairo', 'MET', 'EST', 'Asia/Almaty', 'Australia/Brisbane', 'US/Indiana-Starke', 'America/Hermosillo', 'Africa/Accra', 'Brazil/West', 'America/Manaus', 'Asia/Dhaka', 'Asia/Magadan', 'America/Argentina/La_Rioja', 'Antarctica/Davis', 'Australia/Perth', 'W-SU', 'MST', 'America/Metlakatla', 'Singapore', 'Pacific/Chatham', 'America/Mazatlan', 'Asia/Yekaterinburg', 'America/Indiana/Tell_City', 'Asia/Tokyo', 'Asia/Barnaul', 'Etc/GMT+6', 'Asia/Ho_Chi_Minh', 'Pacific/Rarotonga', 'Asia/Thimbu', 'Portugal', 'Europe/Monaco', 'Australia/Tasmania', 'Canada/Mountain', 'Africa/Porto-Novo', 'US/Alaska', 'America/Mendoza', 'Etc/GMT+5', 'Asia/Katmandu', 'America/Argentina/Jujuy', 'Asia/Chungking', 'Mexico/BajaSur', 'America/Porto_Velho', 'Asia/Ulan_Bator', 'Europe/Luxembourg', 'Etc/GMT-3', 'America/Iqaluit', 'Africa/El_Aaiun', 'Australia/Adelaide', 'Asia/Ulaanbaatar', 'Europe/Chisinau', 'Asia/Tomsk', 'Europe/Kiev', 'US/Arizona', 'America/Matamoros', 'Asia/Kuwait', 'Asia/Choibalsan', 'America/St_Vincent', 'Iran', 'Australia/Sydney', 'Europe/Mariehamn', 'America/La_Paz', 'Iceland', 'America/Puerto_Rico', 'Asia/Kuching', 'Asia/Famagusta', 'Pacific/Kosrae', 'America/Toronto', 'NZ', 'Pacific/Tongatapu', 'Antarctica/Troll', 'US/Pacific', 'Asia/Novosibirsk', 'America/Coral_Harbour', 'Asia/Tashkent', 'America/Santa_Isabel', 'America/Montevideo', 'Antarctica/Mawson', 'America/Belize', 'Greenwich', 'Africa/Lubumbashi', 'Europe/Busingen', 'GMT0', 'Europe/Bucharest', 'Antarctica/Syowa', 'UTC', 'Asia/Phnom_Penh', 'America/Nassau', 'America/Resolute', 'Australia/Broken_Hill', 'Asia/Rangoon', 'Europe/Rome', 'Asia/Gaza', 'Europe/Samara', 'Asia/Aqtobe', 'America/Kentucky/Monticello', 'America/Shiprock', 'Asia/Aden', 'America/Dominica', 'America/Louisville', 'Europe/Ljubljana', 'Atlantic/Reykjavik', 'Pacific/Apia', 'Asia/Beirut', 'Asia/Baku', 'build/etc/localtime', 'America/Guyana', 'Canada/Atlantic', 'Europe/Oslo', 'Pacific/Auckland', 'Etc/GMT', 'America/Cancun', 'Asia/Qostanay', 'Pacific/Pago_Pago', 'Europe/Kirov', 'Pacific/Johnston', 'Asia/Bangkok', 'America/Argentina/Catamarca', 'America/Aruba', 'America/Lower_Princes', 'CET', 'America/Nome', 'Jamaica', 'Africa/Luanda', 'Pacific/Majuro', 'Australia/ACT', 'WET', 'Africa/Lagos', 'Egypt', 'Asia/Pontianak', 'America/Boise', 'Antarctica/Palmer', 'Africa/Bujumbura', 'America/Rankin_Inlet', 'US/East-Indiana', 'America/Porto_Acre', 'Europe/Saratov', 'Europe/Lisbon', 'America/Merida', 'Etc/GMT+9', 'America/Danmarkshavn', 'Africa/Tunis', 'Indian/Maldives', 'America/Havana', 'America/Santo_Domingo', 'Asia/Singapore', 'Europe/Ulyanovsk', 'Pacific/Chuuk', 'Asia/Bishkek', 'Etc/Zulu', 'Indian/Mahe', 'Africa/Ouagadougou', 'Australia/Currie', 'Pacific/Marquesas', 'America/Ensenada', 'Pacific/Palau', 'Europe/Vilnius', 'America/Fort_Wayne', 'Canada/Newfoundland', 'Asia/Pyongyang', 'America/Buenos_Aires', 'Indian/Cocos', 'Africa/Lome', 'ROC', 'Asia/Baghdad', 'Asia/Jerusalem', 'Etc/GMT+11', 'Asia/Hovd', 'Europe/Astrakhan', 'Etc/GMT-5', 'Etc/GMT-11', 'Asia/Saigon', 'Europe/Moscow', 'Asia/Kolkata', 'Pacific/Niue', 'Africa/Timbuktu', 'Indian/Reunion', 'America/Montreal', 'Pacific/Galapagos', 'America/Tijuana', 'Europe/Simferopol', 'Asia/Novokuznetsk', 'Asia/Kashgar', 'Etc/GMT-13', 'Africa/Bissau', 'Pacific/Enderbury', 'Europe/Vienna', 'Brazil/Acre', 'Asia/Qyzylorda', 'Etc/GMT-0', 'Europe/Prague', 'America/Knox_IN', 'Europe/Volgograd', 'Indian/Comoro', 'Europe/Malta', 'Europe/Riga', 'Asia/Manila', 'Etc/GMT-4', 'Asia/Yangon', 'Asia/Tel_Aviv', 'America/Eirunepe', 'America/Antigua', 'Pacific/Kwajalein', 'Europe/Minsk', 'America/Sao_Paulo', 'Europe/Uzhgorod', 'Asia/Ust-Nera', 'Europe/Paris', 'America/Argentina/Tucuman', 'Asia/Hong_Kong', 'Africa/Addis_Ababa', 'Africa/Windhoek', 'Pacific/Fiji', 'Canada/Pacific', 'America/Swift_Current', 'America/Jujuy', 'America/Santiago', 'Asia/Macau', 'Indian/Antananarivo', 'Chile/EasterIsland', 'Atlantic/Canary', 'America/Virgin', 'America/Tegucigalpa', 'Asia/Khandyga', 'Asia/Colombo', 'Asia/Omsk', 'America/Cayman', 'America/Nipigon', 'Chile/Continental', 'Europe/Sofia', 'Asia/Taipei', 'America/Dawson', 'Hongkong', 'America/Panama', 'Etc/GMT-14', 'Africa/Kinshasa', 'Africa/Malabo', 'Africa/Asmera', 'Atlantic/South_Georgia', 'Asia/Oral', 'GB', 'Factory', 'Europe/Tallinn', 'Europe/Warsaw', 'Asia/Jayapura', 'Pacific/Tahiti', 'Asia/Kabul', 'Europe/Belfast', 'Africa/Ceuta', 'Etc/GMT-12', 'America/Cambridge_Bay', 'Indian/Mauritius', 'Africa/Bangui', 'Africa/Blantyre', 'Atlantic/St_Helena', 'Pacific/Noumea', 'Europe/Kyiv', 'Africa/Douala', 'Africa/Nairobi', 'Asia/Damascus', 'Africa/Conakry', 'America/El_Salvador', 'Asia/Seoul', 'Europe/Jersey', 'America/Halifax', 'America/Maceio', 'Australia/Canberra', 'Europe/Stockholm', 'America/Argentina/ComodRivadavia', 'Etc/GMT-7', 'America/Kentucky/Louisville', 'America/Thunder_Bay', 'Etc/GMT-8', 'Europe/Zaporozhye', 'Asia/Vientiane', 'America/Anguilla', 'Africa/Algiers', 'America/Grand_Turk', 'Etc/GMT+4', 'Asia/Kathmandu', 'America/Moncton', 'Europe/Brussels', 'PRC', 'America/Bogota', 'Asia/Bahrain', 'America/Creston', 'EET', 'America/Regina', 'Asia/Amman', 'Canada/Central', 'America/Blanc-Sablon', 'America/Argentina/Rio_Gallegos', 'Etc/GMT+0', 'Europe/Amsterdam', 'Antarctica/South_Pole', 'Europe/Gibraltar', 'Etc/Universal', 'Australia/Lindeman', 'America/Argentina/San_Luis', 'Asia/Chongqing', 'Africa/Sao_Tome'}\n"
     ]
    }
   ],
   "source": [
    "import zoneinfo\n",
    "\n",
    "print(zoneinfo.available_timezones())"
   ]
  },
  {
   "cell_type": "code",
   "execution_count": null,
   "metadata": {},
   "outputs": [],
   "source": []
  }
 ],
 "metadata": {
  "kernelspec": {
   "display_name": "Python 3 (ipykernel)",
   "language": "python",
   "name": "python3"
  },
  "language_info": {
   "codemirror_mode": {
    "name": "ipython",
    "version": 3
   },
   "file_extension": ".py",
   "mimetype": "text/x-python",
   "name": "python",
   "nbconvert_exporter": "python",
   "pygments_lexer": "ipython3",
   "version": "3.11.5"
  },
  "toc": {
   "base_numbering": 1,
   "nav_menu": {},
   "number_sections": true,
   "sideBar": true,
   "skip_h1_title": false,
   "title_cell": "Table of Contents",
   "title_sidebar": "Contents",
   "toc_cell": false,
   "toc_position": {},
   "toc_section_display": "block",
   "toc_window_display": false
  }
 },
 "nbformat": 4,
 "nbformat_minor": 2
}
