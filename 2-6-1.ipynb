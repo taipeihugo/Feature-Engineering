{
 "cells": [
  {
   "cell_type": "code",
   "execution_count": 1,
   "id": "ae4bc8bc-2908-4f5d-b1ad-4871cd3bfd28",
   "metadata": {},
   "outputs": [
    {
     "name": "stdout",
     "output_type": "stream",
     "text": [
      "   A  B  C\n",
      "0  1  4  7\n",
      "1  2  5  8\n",
      "2  3  6  9\n"
     ]
    }
   ],
   "source": [
    "# 使用astype\n",
    "import pandas as pd\n",
    "\n",
    "# Create and print DataFrame\n",
    "df = pd.DataFrame({\n",
    "   'A': ['1', '2', '3'],\n",
    "   'B': ['4', '5', '6'],\n",
    "   'C': ['7', '8', '9']\n",
    "})\n",
    "print(df)"
   ]
  },
  {
   "cell_type": "code",
   "execution_count": 3,
   "id": "d28fca1d-ba80-4e91-9a0a-425087c08766",
   "metadata": {},
   "outputs": [
    {
     "name": "stdout",
     "output_type": "stream",
     "text": [
      "\n",
      "\n",
      "A    object\n",
      "B    object\n",
      "C    object\n",
      "dtype: object\n"
     ]
    }
   ],
   "source": [
    "# Print data types of each column in DataFrame\n",
    "print(\"\\n\")\n",
    "print(df.dtypes)"
   ]
  },
  {
   "cell_type": "code",
   "execution_count": 5,
   "id": "7ca3eb25-86f9-446f-a350-e0396fa5965a",
   "metadata": {},
   "outputs": [
    {
     "name": "stdout",
     "output_type": "stream",
     "text": [
      "\n",
      "Converted:\n",
      "\n"
     ]
    }
   ],
   "source": [
    "# Change column A's values to floats\n",
    "df['A'] = df['A'].astype(float)\n",
    "# Change column B and C's values to integers\n",
    "df = df.astype({'B': int, 'C': int})\n",
    "print(\"\\nConverted:\\n\")"
   ]
  },
  {
   "cell_type": "code",
   "execution_count": 7,
   "id": "fdabe7f6-45bf-4d55-af21-2e5529699a23",
   "metadata": {},
   "outputs": [
    {
     "name": "stdout",
     "output_type": "stream",
     "text": [
      "     A  B  C\n",
      "0  1.0  4  7\n",
      "1  2.0  5  8\n",
      "2  3.0  6  9\n",
      "\n",
      "\n",
      "A    float64\n",
      "B      int32\n",
      "C      int32\n",
      "dtype: object\n"
     ]
    }
   ],
   "source": [
    "# Print altered DataFrame\n",
    "print(df)\n",
    "# Print data types of each column in DataFrame\n",
    "print(\"\\n\")\n",
    "print(df.dtypes)"
   ]
  },
  {
   "cell_type": "code",
   "execution_count": 9,
   "id": "ca755066-4d4f-44b8-a6f8-b9d6296b363d",
   "metadata": {},
   "outputs": [
    {
     "name": "stdout",
     "output_type": "stream",
     "text": [
      "   A    B  C\n",
      "0  1  4.0  7\n",
      "1  2  5.1  8\n",
      "2  3  6.2  9\n"
     ]
    }
   ],
   "source": [
    "# 使用to_numeric\n",
    "import pandas as pd\n",
    "\n",
    "# Create and print DataFrame\n",
    "df = pd.DataFrame({\n",
    "   'A': ['1', '2', '3'],\n",
    "   'B': ['4.0', '5.1', '6.2'],\n",
    "   'C': ['7', '8', '9']\n",
    "})\n",
    "print(df)"
   ]
  },
  {
   "cell_type": "code",
   "execution_count": 11,
   "id": "da058c35-9524-4f3b-962e-72696939f5af",
   "metadata": {},
   "outputs": [
    {
     "name": "stdout",
     "output_type": "stream",
     "text": [
      "\n",
      "\n",
      "A    object\n",
      "B    object\n",
      "C    object\n",
      "dtype: object\n"
     ]
    }
   ],
   "source": [
    "# Print data types of each column in DataFrame\n",
    "print(\"\\n\")\n",
    "print(df.dtypes)"
   ]
  },
  {
   "cell_type": "code",
   "execution_count": 13,
   "id": "7672c1fe-cf8d-42e0-92b9-dd11c27f1eca",
   "metadata": {},
   "outputs": [
    {
     "name": "stdout",
     "output_type": "stream",
     "text": [
      "\n",
      "Converted:\n",
      "\n",
      "   A    B  C\n",
      "0  1  4.0  7\n",
      "1  2  5.1  8\n",
      "2  3  6.2  9\n",
      "\n",
      "\n",
      "A      int64\n",
      "B    float64\n",
      "C      int64\n",
      "dtype: object\n"
     ]
    }
   ],
   "source": [
    "# Change column A's values to a numeric type\n",
    "df['A'] = pd.to_numeric(df['A'])\n",
    "# Change column B and C's values to a numeric type\n",
    "df[['B', 'C']] = df[['B', 'C']].apply(pd.to_numeric)\n",
    "\n",
    "print(\"\\nConverted:\\n\")\n",
    "\n",
    "# Print altered DataFrame\n",
    "print(df)\n",
    "# Print data types of each column in DataFrame\n",
    "print(\"\\n\")\n",
    "print(df.dtypes)"
   ]
  },
  {
   "cell_type": "code",
   "execution_count": 15,
   "id": "caf3e458-e56b-41bb-b53d-42575bf14a95",
   "metadata": {},
   "outputs": [
    {
     "name": "stdout",
     "output_type": "stream",
     "text": [
      "     A  B  C  D\n",
      "0  1.0  z  7  1\n",
      "1  2.0  x  8  2\n",
      "2  5.3  c  4  3\n"
     ]
    }
   ],
   "source": [
    "# 使用convert_dtypes()\n",
    "import pandas as pd\n",
    "\n",
    "# Create and print DataFrame\n",
    "df = pd.DataFrame({\n",
    "   'A': [1.0, 2.0, 5.3],\n",
    "   'B': ['z', 'x', 'c'],\n",
    "   'C': [7, 8, 4],\n",
    "   'D': ['1', '2', '3']\n",
    "})\n",
    "print(df)"
   ]
  },
  {
   "cell_type": "code",
   "execution_count": 17,
   "id": "2696b011-755f-4669-8744-8a75ba9aa665",
   "metadata": {},
   "outputs": [
    {
     "name": "stdout",
     "output_type": "stream",
     "text": [
      "\n",
      "\n",
      "A    float64\n",
      "B     object\n",
      "C      int64\n",
      "D     object\n",
      "dtype: object\n",
      "\n",
      "Converted:\n",
      "\n",
      "     A  B  C  D\n",
      "0  1.0  z  7  1\n",
      "1  2.0  x  8  2\n",
      "2  5.3  c  4  3\n",
      "\n",
      "\n",
      "A           Float64\n",
      "B    string[python]\n",
      "C             Int64\n",
      "D    string[python]\n",
      "dtype: object\n"
     ]
    }
   ],
   "source": [
    "# Print data types of each column in DataFrame\n",
    "print(\"\\n\")\n",
    "print(df.dtypes)\n",
    "\n",
    "# Change all columns to the appropriate types\n",
    "df = df.convert_dtypes()\n",
    "\n",
    "print(\"\\nConverted:\\n\")\n",
    "\n",
    "# Print altered DataFrame\n",
    "print(df)\n",
    "# Print data types of each column in DataFrame\n",
    "print(\"\\n\")\n",
    "print(df.dtypes)"
   ]
  },
  {
   "cell_type": "code",
   "execution_count": null,
   "id": "62565509-cb40-4dc5-9755-0574bb4c23e1",
   "metadata": {},
   "outputs": [],
   "source": []
  }
 ],
 "metadata": {
  "kernelspec": {
   "display_name": "Python 3 (ipykernel)",
   "language": "python",
   "name": "python3"
  },
  "language_info": {
   "codemirror_mode": {
    "name": "ipython",
    "version": 3
   },
   "file_extension": ".py",
   "mimetype": "text/x-python",
   "name": "python",
   "nbconvert_exporter": "python",
   "pygments_lexer": "ipython3",
   "version": "3.12.7"
  }
 },
 "nbformat": 4,
 "nbformat_minor": 5
}
