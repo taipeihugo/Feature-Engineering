{
 "cells": [
  {
   "cell_type": "code",
   "execution_count": 2,
   "id": "d8c774b9",
   "metadata": {},
   "outputs": [
    {
     "name": "stderr",
     "output_type": "stream",
     "text": [
      "C:\\ProgramData\\anaconda\\Lib\\site-packages\\pandas\\core\\arrays\\masked.py:60: UserWarning: Pandas requires version '1.3.6' or newer of 'bottleneck' (version '1.3.5' currently installed).\n",
      "  from pandas.core import (\n"
     ]
    },
    {
     "data": {
      "text/html": [
       "<div>\n",
       "<style scoped>\n",
       "    .dataframe tbody tr th:only-of-type {\n",
       "        vertical-align: middle;\n",
       "    }\n",
       "\n",
       "    .dataframe tbody tr th {\n",
       "        vertical-align: top;\n",
       "    }\n",
       "\n",
       "    .dataframe thead th {\n",
       "        text-align: right;\n",
       "    }\n",
       "</style>\n",
       "<table border=\"1\" class=\"dataframe\">\n",
       "  <thead>\n",
       "    <tr style=\"text-align: right;\">\n",
       "      <th></th>\n",
       "      <th>A</th>\n",
       "      <th>b</th>\n",
       "      <th>c</th>\n",
       "    </tr>\n",
       "  </thead>\n",
       "  <tbody>\n",
       "    <tr>\n",
       "      <th>0</th>\n",
       "      <td>1</td>\n",
       "      <td>2</td>\n",
       "      <td>3</td>\n",
       "    </tr>\n",
       "    <tr>\n",
       "      <th>1</th>\n",
       "      <td>4</td>\n",
       "      <td>5</td>\n",
       "      <td>6</td>\n",
       "    </tr>\n",
       "    <tr>\n",
       "      <th>2</th>\n",
       "      <td>7</td>\n",
       "      <td>8</td>\n",
       "      <td>9</td>\n",
       "    </tr>\n",
       "  </tbody>\n",
       "</table>\n",
       "</div>"
      ],
      "text/plain": [
       "   A  b  c\n",
       "0  1  2  3\n",
       "1  4  5  6\n",
       "2  7  8  9"
      ]
     },
     "execution_count": 2,
     "metadata": {},
     "output_type": "execute_result"
    }
   ],
   "source": [
    "import pandas as pd\n",
    "# create dataframe by matrix\n",
    "data = [[1,2,3],\n",
    "        [4,5,6],\n",
    "        [7,8,9]]\n",
    "df=pd.DataFrame(data, columns=['A','b','c'])\n",
    "df"
   ]
  },
  {
   "cell_type": "code",
   "execution_count": 3,
   "id": "406dce0d",
   "metadata": {},
   "outputs": [
    {
     "data": {
      "text/html": [
       "<div>\n",
       "<style scoped>\n",
       "    .dataframe tbody tr th:only-of-type {\n",
       "        vertical-align: middle;\n",
       "    }\n",
       "\n",
       "    .dataframe tbody tr th {\n",
       "        vertical-align: top;\n",
       "    }\n",
       "\n",
       "    .dataframe thead th {\n",
       "        text-align: right;\n",
       "    }\n",
       "</style>\n",
       "<table border=\"1\" class=\"dataframe\">\n",
       "  <thead>\n",
       "    <tr style=\"text-align: right;\">\n",
       "      <th></th>\n",
       "      <th>A</th>\n",
       "      <th>b</th>\n",
       "      <th>c</th>\n",
       "    </tr>\n",
       "  </thead>\n",
       "  <tbody>\n",
       "    <tr>\n",
       "      <th>0</th>\n",
       "      <td>1</td>\n",
       "      <td>2</td>\n",
       "      <td>3</td>\n",
       "    </tr>\n",
       "    <tr>\n",
       "      <th>1</th>\n",
       "      <td>4</td>\n",
       "      <td>5</td>\n",
       "      <td>6</td>\n",
       "    </tr>\n",
       "    <tr>\n",
       "      <th>2</th>\n",
       "      <td>7</td>\n",
       "      <td>8</td>\n",
       "      <td>9</td>\n",
       "    </tr>\n",
       "  </tbody>\n",
       "</table>\n",
       "</div>"
      ],
      "text/plain": [
       "   A  b  c\n",
       "0  1  2  3\n",
       "1  4  5  6\n",
       "2  7  8  9"
      ]
     },
     "execution_count": 3,
     "metadata": {},
     "output_type": "execute_result"
    }
   ],
   "source": [
    "# create dataframe by dictionary\n",
    "dic = {'A':[1,4,7],\n",
    "       'b':[2,5,8],\n",
    "       'c':[3,6,9]}\n",
    "df=pd.DataFrame(dic)\n",
    "df"
   ]
  },
  {
   "cell_type": "code",
   "execution_count": 11,
   "id": "b6703a6d",
   "metadata": {},
   "outputs": [
    {
     "name": "stdout",
     "output_type": "stream",
     "text": [
      "   ID    Name  Age\n",
      "0   1     Tom   35\n",
      "1   2    Mary   27\n",
      "2   3  Jackie   23\n",
      "3   4   Renae   45\n"
     ]
    }
   ],
   "source": [
    "import pandas as pd\n",
    "\n",
    "# 建立串列資料\n",
    "data1 = {'ID':[1,2,3,4],\n",
    "         'Name': ['Tom', 'Mary', 'Jackie', 'Renae'],\n",
    "        'Age': [35, 27, 23, 45]}\n",
    "\n",
    "# 建立資料框\n",
    "df1 = pd.DataFrame(data1)\n",
    "print(df1)"
   ]
  },
  {
   "cell_type": "code",
   "execution_count": 12,
   "id": "17cf83f4",
   "metadata": {},
   "outputs": [
    {
     "name": "stdout",
     "output_type": "stream",
     "text": [
      "   ID   Name  Age\n",
      "0   1   John   43\n",
      "1   2  Conan   22\n",
      "2   3   Jane   28\n"
     ]
    }
   ],
   "source": [
    "# initialize list of lists\n",
    "data2 = [[1,'John', 43], [2,'Conan', 22], [3,'Jane', 28]]\n",
    "\n",
    "# Create the pandas DataFrame\n",
    "df2 = pd.DataFrame(data2, columns=['ID','Name','Age'])\n",
    "\n",
    "print(df2)"
   ]
  },
  {
   "cell_type": "code",
   "execution_count": 14,
   "id": "43689f0f",
   "metadata": {},
   "outputs": [
    {
     "name": "stdout",
     "output_type": "stream",
     "text": [
      "   ID  Name_x  Age_x Name_y  Age_y\n",
      "0   1     Tom     35   John     43\n",
      "1   2    Mary     27  Conan     22\n",
      "2   3  Jackie     23   Jane     28\n"
     ]
    }
   ],
   "source": [
    "print (pd.merge(df1, df2,left_on='ID', right_on='ID'))"
   ]
  },
  {
   "cell_type": "code",
   "execution_count": 15,
   "id": "d41e08e0",
   "metadata": {},
   "outputs": [
    {
     "name": "stdout",
     "output_type": "stream",
     "text": [
      "   ID  Name_x  Age_x Name_y  Age_y\n",
      "0   1     Tom     35   John   43.0\n",
      "1   2    Mary     27  Conan   22.0\n",
      "2   3  Jackie     23   Jane   28.0\n",
      "3   4   Renae     45    NaN    NaN\n"
     ]
    }
   ],
   "source": [
    "print (pd.merge(df1, df2,left_on='ID', right_on='ID', how='left'))"
   ]
  },
  {
   "cell_type": "code",
   "execution_count": 27,
   "id": "96ef855b",
   "metadata": {},
   "outputs": [
    {
     "name": "stdout",
     "output_type": "stream",
     "text": [
      "          Name  Quantity\n",
      "0        Apple         3\n",
      "1        Grape         7\n",
      "2       Banana         2\n",
      "3  Watermellon        40\n",
      "4        Mango         5\n"
     ]
    }
   ],
   "source": [
    "# 建立串列資料\n",
    "data3 = {'Name': ['Apple', 'Grape', 'Banana', 'Watermellon','Mango'],\n",
    "        'Quantity': [3, 7, 2, 40,5]}\n",
    "\n",
    "# 建立資料框\n",
    "df3 = pd.DataFrame(data3)\n",
    "print(df3)"
   ]
  },
  {
   "cell_type": "code",
   "execution_count": 28,
   "id": "6eca6344",
   "metadata": {},
   "outputs": [
    {
     "name": "stdout",
     "output_type": "stream",
     "text": [
      "          Name  Price\n",
      "0        Apple     35\n",
      "1        Grape     27\n",
      "2       Banana     23\n",
      "3  Watermellon     45\n"
     ]
    }
   ],
   "source": [
    "# 建立串列資料\n",
    "data4 = {'Name': ['Apple', 'Grape', 'Banana', 'Watermellon'],\n",
    "        'Price': [35, 27, 23, 45]}\n",
    "\n",
    "# 建立資料框\n",
    "df4 = pd.DataFrame(data4)\n",
    "print(df4)"
   ]
  },
  {
   "cell_type": "code",
   "execution_count": 29,
   "id": "31224176",
   "metadata": {},
   "outputs": [
    {
     "name": "stdout",
     "output_type": "stream",
     "text": [
      "          Name  Quantity  Price\n",
      "0        Apple         3   35.0\n",
      "1        Grape         7   27.0\n",
      "2       Banana         2   23.0\n",
      "3  Watermellon        40   45.0\n",
      "4        Mango         5    NaN\n"
     ]
    }
   ],
   "source": [
    "print (pd.merge(df3, df4,left_on='Name', right_on='Name', how='left'))"
   ]
  },
  {
   "cell_type": "code",
   "execution_count": null,
   "id": "56b17cfe",
   "metadata": {},
   "outputs": [],
   "source": []
  }
 ],
 "metadata": {
  "kernelspec": {
   "display_name": "Python 3 (ipykernel)",
   "language": "python",
   "name": "python3"
  },
  "language_info": {
   "codemirror_mode": {
    "name": "ipython",
    "version": 3
   },
   "file_extension": ".py",
   "mimetype": "text/x-python",
   "name": "python",
   "nbconvert_exporter": "python",
   "pygments_lexer": "ipython3",
   "version": "3.11.5"
  }
 },
 "nbformat": 4,
 "nbformat_minor": 5
}
